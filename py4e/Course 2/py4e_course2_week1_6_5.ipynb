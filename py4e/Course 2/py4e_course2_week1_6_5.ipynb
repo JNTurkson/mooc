{
  "nbformat": 4,
  "nbformat_minor": 0,
  "metadata": {
    "colab": {
      "provenance": []
    },
    "kernelspec": {
      "name": "python3",
      "display_name": "Python 3"
    },
    "language_info": {
      "name": "python"
    }
  },
  "cells": [
    {
      "cell_type": "markdown",
      "source": [
        "**Python Data Structures**"
      ],
      "metadata": {
        "id": "zby0WtOS3E5V"
      }
    },
    {
      "cell_type": "markdown",
      "source": [
        "6.5 Write code using find() and string slicing (see section 6.10) to extract the number at the end of the line below. Convert the extracted value to a floating point number and print it out."
      ],
      "metadata": {
        "id": "s5ix61Zc3EsF"
      }
    },
    {
      "cell_type": "code",
      "execution_count": 4,
      "metadata": {
        "colab": {
          "base_uri": "https://localhost:8080/"
        },
        "id": "MIfM2Ebg2g9y",
        "outputId": "ae241aa1-1c76-49b2-c0e3-b199e74415df"
      },
      "outputs": [
        {
          "output_type": "stream",
          "name": "stdout",
          "text": [
            "0.8475\n"
          ]
        }
      ],
      "source": [
        "text = \"X-DSPAM-Confidence:    0.8475\"\n",
        "#Finding the position of the colon symbol (:) in the given text.\n",
        "pos = text.find(':')\n",
        "#Extracting the number at the end of the text and typecasting as float.\n",
        "print(float(text[pos+1:]))"
      ]
    }
  ]
}