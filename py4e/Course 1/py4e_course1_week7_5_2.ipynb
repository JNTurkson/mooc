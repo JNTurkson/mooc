{
  "nbformat": 4,
  "nbformat_minor": 0,
  "metadata": {
    "colab": {
      "provenance": []
    },
    "kernelspec": {
      "name": "python3",
      "display_name": "Python 3"
    },
    "language_info": {
      "name": "python"
    }
  },
  "cells": [
    {
      "cell_type": "markdown",
      "source": [
        "**Programming for Everybody (Getting Started with Python)**"
      ],
      "metadata": {
        "id": "zpnCtpZF6N8J"
      }
    },
    {
      "cell_type": "markdown",
      "source": [
        "5.2 Write a program that repeatedly prompts a user for integer numbers until the user enters 'done'. Once 'done' is entered, print out the largest and smallest of the numbers. If the user enters anything other than a valid number catch it with a try/except and put out an appropriate message and ignore the number. Enter 7, 2, bob, 10, and 4 and match the output below."
      ],
      "metadata": {
        "id": "FDTbDzOI6NXP"
      }
    },
    {
      "cell_type": "code",
      "execution_count": 1,
      "metadata": {
        "colab": {
          "base_uri": "https://localhost:8080/"
        },
        "id": "4HyveOqa6A2-",
        "outputId": "fcc43378-4c8c-4309-8ad1-1ee8e8ace51a"
      },
      "outputs": [
        {
          "output_type": "stream",
          "name": "stdout",
          "text": [
            "Enter a number: 7\n",
            "Enter a number: 2\n",
            "Enter a number: bob\n",
            "Invalid input\n",
            "Enter a number: 10\n",
            "Enter a number: 4\n",
            "Enter a number: done\n",
            "Maximum is 10\n",
            "Minimum is 2\n"
          ]
        }
      ],
      "source": [
        "largest = None\n",
        "smallest = None\n",
        "while True:\n",
        "  try:\n",
        "    num = input(\"Enter a number: \")\n",
        "\n",
        "    if num == \"done\":\n",
        "      break\n",
        "      \n",
        "    num = int(num)\n",
        "\n",
        "    if largest is None or largest < num:\n",
        "      largest = num\n",
        "    \n",
        "    elif smallest is None or smallest > num:\n",
        "      smallest = num\n",
        "  \n",
        "  except:\n",
        "      print(\"Invalid input\")\n",
        " \n",
        "print (\"Maximum is\", largest)\n",
        "print (\"Minimum is\", smallest)"
      ]
    }
  ]
}